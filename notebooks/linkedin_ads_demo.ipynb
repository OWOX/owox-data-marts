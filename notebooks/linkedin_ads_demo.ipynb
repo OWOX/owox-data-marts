{
 "cells": [
  {
   "cell_type": "markdown",
   "metadata": {},
   "source": [
    "# LinkedIn Ads API Demo\n",
    "\n",
    "This notebook demonstrates how to:\n",
    "1. Connect to the OWOX Data Marts API\n",
    "2. Set up LinkedIn Ads credentials\n",
    "3. Test LinkedIn Ads data collection\n",
    "4. Explore available analytics fields\n"
   ]
  },
  {
   "cell_type": "markdown",
   "metadata": {},
   "source": [
    "## Setup and Authentication"
   ]
  },
  {
   "cell_type": "code",
   "execution_count": null,
   "metadata": {},
   "outputs": [],
   "source": [
    "import sys\n",
    "import os\n",
    "sys.path.append(os.path.join(os.getcwd(), 'utils'))\n",
    "\n",
    "from api_client import NotebookAPIClient, quick_setup\n",
    "from linkedin_config import *\n",
    "import pandas as pd\n",
    "import json"
   ]
  },
  {
   "cell_type": "code",
   "execution_count": null,
   "metadata": {},
   "outputs": [],
   "source": [
    "# Quick setup with default demo credentials\n",
    "client = quick_setup()\n",
    "\n",
    "# Or manual setup:\n",
    "# client = NotebookAPIClient()\n",
    "# client.login('your-email@example.com', 'your-password')"
   ]
  },
  {
   "cell_type": "markdown",
   "metadata": {},
   "source": [
    "## LinkedIn Credentials Setup"
   ]
  },
  {
   "cell_type": "code",
   "execution_count": null,
   "metadata": {},
   "outputs": [],
   "source": [
    "# Your LinkedIn API credentials\n",
    "LINKEDIN_CREDENTIALS = {\n",
    "    'access_token': 'YOUR_LINKEDIN_ACCESS_TOKEN',\n",
    "    'client_id': 'YOUR_CLIENT_ID', \n",
    "    'client_secret': 'YOUR_CLIENT_SECRET'\n",
    "}\n",
    "\n",
    "# Create LinkedIn credentials in the system\n",
    "linkedin_cred = client.create_linkedin_credentials(\n",
    "    access_token=LINKEDIN_CREDENTIALS['access_token'],\n",
    "    client_id=LINKEDIN_CREDENTIALS['client_id'],\n",
    "    client_secret=LINKEDIN_CREDENTIALS['client_secret'],\n",
    "    account_name=\"My LinkedIn Ads Account\"\n",
    ")\n",
    "\n",
    "print(f\"LinkedIn credential ID: {linkedin_cred['id']}\")"
   ]
  },
  {
   "cell_type": "markdown",
   "metadata": {},
   "source": [
    "## Explore Available Analytics Fields"
   ]
  },
  {
   "cell_type": "code",
   "execution_count": null,
   "metadata": {},
   "outputs": [],
   "source": [
    "# Display all available LinkedIn analytics fields\n",
    "print(\"📊 LinkedIn Ads Analytics Fields:\")\n",
    "print(\"=\" * 50)\n",
    "\n",
    "for i, field in enumerate(LINKEDIN_ADS_ANALYTICS_FIELDS, 1):\n",
    "    print(f\"{i:2d}. {field}\")"
   ]
  },
  {
   "cell_type": "code",
   "execution_count": null,
   "metadata": {},
   "outputs": [],
   "source": [
    "# Display predefined field groups\n",
    "print(\"📈 Predefined Field Groups:\")\n",
    "print(\"=\" * 30)\n",
    "\n",
    "for group_name, fields in FIELD_GROUPS.items():\n",
    "    print(f\"\\n🔹 {group_name.upper()}:\")\n",
    "    for field in fields:\n",
    "        print(f\"   • {field}\")"
   ]
  },
  {
   "cell_type": "markdown",
   "metadata": {},
   "source": [
    "## Build Analytics Request"
   ]
  },
  {
   "cell_type": "code",
   "execution_count": null,
   "metadata": {},
   "outputs": [],
   "source": [
    "# Example: Build a basic performance analytics request\n",
    "analytics_request = build_analytics_request(\n",
    "    account_urns=[\"urn:li:sponsoredAccount:YOUR_ACCOUNT_ID\"],\n",
    "    start_date=\"2024-01-01\",\n",
    "    end_date=\"2024-01-31\",\n",
    "    fields=get_field_group(\"basic_performance\")\n",
    ")\n",
    "\n",
    "print(\"📋 Analytics Request Payload:\")\n",
    "print(json.dumps(analytics_request, indent=2))"
   ]
  },
  {
   "cell_type": "markdown",
   "metadata": {},
   "source": [
    "## Custom Field Selection"
   ]
  },
  {
   "cell_type": "code",
   "execution_count": null,
   "metadata": {},
   "outputs": [],
   "source": [
    "# Create custom field selection\n",
    "custom_fields = [\n",
    "    \"dateRange\",\n",
    "    \"campaign\", \n",
    "    \"impressions\",\n",
    "    \"clicks\",\n",
    "    \"costInUsd\",\n",
    "    \"conversions\",\n",
    "    \"videoViews\",\n",
    "    \"likes\",\n",
    "    \"shares\"\n",
    "]\n",
    "\n",
    "# Validate custom fields\n",
    "valid_fields, invalid_fields = validate_fields(custom_fields)\n",
    "\n",
    "print(f\"✅ Valid fields ({len(valid_fields)}): {valid_fields}\")\n",
    "if invalid_fields:\n",
    "    print(f\"❌ Invalid fields ({len(invalid_fields)}): {invalid_fields}\")"
   ]
  },
  {
   "cell_type": "markdown",
   "metadata": {},
   "source": [
    "## Campaign Analysis Example"
   ]
  },
  {
   "cell_type": "code",
   "execution_count": null,
   "metadata": {},
   "outputs": [],
   "source": [
    "# Example: Video campaign performance analysis\n",
    "video_request = build_analytics_request(\n",
    "    account_urns=[\"urn:li:sponsoredAccount:YOUR_ACCOUNT_ID\"],\n",
    "    start_date=\"2024-01-01\",\n",
    "    end_date=\"2024-01-31\",\n",
    "    fields=get_field_group(\"video_performance\"),\n",
    "    pivot_by=\"CREATIVE\"\n",
    ")\n",
    "\n",
    "print(\"🎥 Video Performance Request:\")\n",
    "print(json.dumps(video_request, indent=2))"
   ]
  },
  {
   "cell_type": "markdown",
   "metadata": {},
   "source": [
    "## Configuration Reference"
   ]
  },
  {
   "cell_type": "code",
   "execution_count": null,
   "metadata": {},
   "outputs": [],
   "source": [
    "# Display LinkedIn API configuration\n",
    "print(\"⚙️  LinkedIn API Configuration:\")\n",
    "print(f\"Base URL: {LINKEDIN_CONFIG['base_url']}\")\n",
    "print(f\"API Version: {LINKEDIN_CONFIG['api_version']}\")\n",
    "print(f\"Max Fields per Request: {LINKEDIN_CONFIG['max_fields_per_request']}\")\n",
    "\n",
    "print(\"\\n📅 Available Date Ranges:\")\n",
    "for name, value in DATE_RANGES.items():\n",
    "    print(f\"   • {name}: {value}\")\n",
    "\n",
    "print(\"\\n🎯 Campaign Objectives:\")\n",
    "for objective in CAMPAIGN_OBJECTIVES:\n",
    "    print(f\"   • {objective}\")"
   ]
  },
  {
   "cell_type": "markdown",
   "metadata": {},
   "source": [
    "## Testing and Troubleshooting"
   ]
  },
  {
   "cell_type": "code",
   "execution_count": null,
   "metadata": {},
   "outputs": [],
   "source": [
    "# Test API connection\n",
    "if client.test_connection():\n",
    "    print(\"✅ API connection is working\")\n",
    "    \n",
    "    # Get existing credentials\n",
    "    credentials = client.get_platform_credentials()\n",
    "    print(f\"\\n📋 Existing platform credentials: {len(credentials)} found\")\n",
    "    \n",
    "    for cred in credentials:\n",
    "        print(f\"   • ID: {cred.get('id')}, Platform: {cred.get('platform_name')}, Name: {cred.get('account_name')}\")\n",
    "else:\n",
    "    print(\"❌ API connection failed - check if backend is running\")"
   ]
  },
  {
   "cell_type": "markdown",
   "metadata": {},
   "source": [
    "## Next Steps\n",
    "\n",
    "1. **Update credentials**: Replace `YOUR_LINKEDIN_ACCESS_TOKEN`, `YOUR_CLIENT_ID`, and `YOUR_CLIENT_SECRET` with your actual LinkedIn API credentials\n",
    "2. **Update account URNs**: Replace `YOUR_ACCOUNT_ID` with your actual LinkedIn ad account ID\n",
    "3. **Customize fields**: Use the field groups or create custom field selections based on your needs\n",
    "4. **Test data collection**: Run analytics requests and analyze the returned data\n",
    "5. **Schedule regular collections**: Set up automated data collection workflows\n",
    "\n",
    "## Resources\n",
    "\n",
    "- [LinkedIn Marketing API Documentation](https://docs.microsoft.com/en-us/linkedin/marketing/)\n",
    "- [LinkedIn Analytics API](https://docs.microsoft.com/en-us/linkedin/marketing/integrations/ads-reporting/ads-reporting)\n",
    "- [OWOX Data Marts API Documentation](http://localhost:8000/docs)\n"
   ]
  }
 ],
 "metadata": {
  "kernelspec": {
   "display_name": "Python 3",
   "language": "python",
   "name": "python3"
  },
  "language_info": {
   "codemirror_mode": {
    "name": "ipython",
    "version": 3
   },
   "file_extension": ".py",
   "mimetype": "text/x-python",
   "name": "python",
   "nbconvert_exporter": "python",
   "pygments_lexer": "ipython3",
   "version": "3.8.5"
  }
 },
 "nbformat": 4,
 "nbformat_minor": 4
}
